{
  "cells": [
    {
      "cell_type": "markdown",
      "metadata": {
        "id": "Ae-L23R4M6tR"
      },
      "source": [
        "___\n",
        "\n",
        "<a href='https://www.udemy.com/user/joseportilla/'><img src='https://github.com/joemaxwell-jbm/Complete-Python-3-Bootcamp/blob/master/Pierian_Data_Logo.png?raw=1'/></a>\n",
        "___\n",
        "<center><em>Content Copyright by Pierian Data</em></center>"
      ]
    },
    {
      "cell_type": "markdown",
      "metadata": {
        "id": "GIUJ2JDRM6tS"
      },
      "source": [
        "# Useful Operators\n",
        "\n",
        "There are a few built-in functions and \"operators\" in Python that don't fit well into any category, so we will go over them in this lecture, let's begin!"
      ]
    },
    {
      "cell_type": "markdown",
      "metadata": {
        "id": "FfZr50qcM6tT"
      },
      "source": [
        "## range\n",
        "\n",
        "The range function allows you to quickly *generate* a list of integers, this comes in handy a lot, so take note of how to use it! There are 3 parameters you can pass, a start, a stop, and a step size. Let's see some examples:"
      ]
    },
    {
      "cell_type": "code",
      "execution_count": null,
      "metadata": {
        "id": "-YzTIH2PM6tT",
        "outputId": "1c6d3ef6-f303-4f4f-9d1e-6c532c4a1509"
      },
      "outputs": [
        {
          "data": {
            "text/plain": [
              "range(0, 11)"
            ]
          },
          "execution_count": 1,
          "metadata": {},
          "output_type": "execute_result"
        }
      ],
      "source": [
        "range(0,11)"
      ]
    },
    {
      "cell_type": "markdown",
      "metadata": {
        "id": "nyvJxDRhM6tV"
      },
      "source": [
        "Note that this is a **generator** function, so to actually get a list out of it, we need to cast it to a list with **list()**. What is a generator? Its a special type of function that will generate information and not need to save it to memory. We haven't talked about functions or generators yet, so just keep this in your notes for now, we will discuss this in much more detail in later on in your training!"
      ]
    },
    {
      "cell_type": "code",
      "execution_count": null,
      "metadata": {
        "id": "iSITsARGM6tV",
        "outputId": "d0f5b6a6-d789-4852-edf2-6a6a45da99d4"
      },
      "outputs": [
        {
          "data": {
            "text/plain": [
              "[0, 1, 2, 3, 4, 5, 6, 7, 8, 9, 10]"
            ]
          },
          "execution_count": 3,
          "metadata": {},
          "output_type": "execute_result"
        }
      ],
      "source": [
        "# Notice how 11 is not included, up to but not including 11, just like slice notation!\n",
        "list(range(0,11))"
      ]
    },
    {
      "cell_type": "code",
      "execution_count": null,
      "metadata": {
        "id": "O-5r5YmJM6tW",
        "outputId": "7a06f844-821b-4b70-9206-dd22db755e6a"
      },
      "outputs": [
        {
          "data": {
            "text/plain": [
              "[0, 1, 2, 3, 4, 5, 6, 7, 8, 9, 10, 11]"
            ]
          },
          "execution_count": 4,
          "metadata": {},
          "output_type": "execute_result"
        }
      ],
      "source": [
        "list(range(0,12))"
      ]
    },
    {
      "cell_type": "code",
      "execution_count": null,
      "metadata": {
        "id": "nsqZDIrAM6tW",
        "outputId": "58da7751-c495-43f7-d5ad-2236e2875e20"
      },
      "outputs": [
        {
          "data": {
            "text/plain": [
              "[0, 2, 4, 6, 8, 10]"
            ]
          },
          "execution_count": 6,
          "metadata": {},
          "output_type": "execute_result"
        }
      ],
      "source": [
        "# Third parameter is step size!\n",
        "# step size just means how big of a jump/leap/step you\n",
        "# take from the starting number to get to the next number.\n",
        "\n",
        "list(range(0,11,2))"
      ]
    },
    {
      "cell_type": "code",
      "execution_count": null,
      "metadata": {
        "id": "aAynX5XPM6tW",
        "outputId": "eec33b00-f674-47a5-eaf4-69cdbf4ce257"
      },
      "outputs": [
        {
          "data": {
            "text/plain": [
              "[0, 10, 20, 30, 40, 50, 60, 70, 80, 90, 100]"
            ]
          },
          "execution_count": 7,
          "metadata": {},
          "output_type": "execute_result"
        }
      ],
      "source": [
        "list(range(0,101,10))"
      ]
    },
    {
      "cell_type": "markdown",
      "metadata": {
        "id": "J1yzklrOM6tX"
      },
      "source": [
        "## enumerate\n",
        "\n",
        "enumerate is a very useful function to use with for loops. Let's imagine the following situation:"
      ]
    },
    {
      "cell_type": "code",
      "execution_count": null,
      "metadata": {
        "id": "5nBL0BixM6tX",
        "outputId": "ed2611e8-cab2-4fa4-cc55-d237f74c0f53"
      },
      "outputs": [
        {
          "name": "stdout",
          "output_type": "stream",
          "text": [
            "At index 0 the letter is a\n",
            "At index 1 the letter is b\n",
            "At index 2 the letter is c\n",
            "At index 3 the letter is d\n",
            "At index 4 the letter is e\n"
          ]
        }
      ],
      "source": [
        "index_count = 0\n",
        "\n",
        "for letter in 'abcde':\n",
        "    print(\"At index {} the letter is {}\".format(index_count,letter))\n",
        "    index_count += 1"
      ]
    },
    {
      "cell_type": "code",
      "source": [
        "index_count2 = 0\n",
        "\n",
        "for letter in 'abcde':\n",
        "  print(f\"At index {index_count2} the letter is {letter}.\")\n",
        "  index_count2 +=1"
      ],
      "metadata": {
        "colab": {
          "base_uri": "https://localhost:8080/"
        },
        "id": "h-72VOxbNIjx",
        "outputId": "70e754d4-be25-4d9e-a8fc-bb873d975252"
      },
      "execution_count": 4,
      "outputs": [
        {
          "output_type": "stream",
          "name": "stdout",
          "text": [
            "At index 0 the letter is a.\n",
            "At index 1 the letter is b.\n",
            "At index 2 the letter is c.\n",
            "At index 3 the letter is d.\n",
            "At index 4 the letter is e.\n"
          ]
        }
      ]
    },
    {
      "cell_type": "markdown",
      "metadata": {
        "id": "ZxL6FhGWM6tY"
      },
      "source": [
        "Keeping track of how many loops you've gone through is so common, that enumerate was created so you don't need to worry about creating and updating this index_count or loop_count variable"
      ]
    },
    {
      "cell_type": "code",
      "execution_count": null,
      "metadata": {
        "id": "yppTWzIdM6tY",
        "outputId": "80e9bd46-62a4-44c0-a2da-607cee120b70"
      },
      "outputs": [
        {
          "name": "stdout",
          "output_type": "stream",
          "text": [
            "At index 0 the letter is a\n",
            "At index 1 the letter is b\n",
            "At index 2 the letter is c\n",
            "At index 3 the letter is d\n",
            "At index 4 the letter is e\n"
          ]
        }
      ],
      "source": [
        "# Notice the tuple unpacking!\n",
        "\n",
        "for i,letter in enumerate('abcde'):\n",
        "    print(\"At index {} the letter is {}\".format(i,letter))"
      ]
    },
    {
      "cell_type": "markdown",
      "metadata": {
        "id": "DUH_NP7jM6tY"
      },
      "source": [
        "## zip\n",
        "\n",
        "Notice the format enumerate actually returns, let's take a look by transforming it to a list()"
      ]
    },
    {
      "cell_type": "code",
      "execution_count": null,
      "metadata": {
        "id": "YmW97zFiM6tZ",
        "outputId": "5616a4ab-80a7-41e4-d1dc-150703fed2b7"
      },
      "outputs": [
        {
          "data": {
            "text/plain": [
              "[(0, 'a'), (1, 'b'), (2, 'c'), (3, 'd'), (4, 'e')]"
            ]
          },
          "execution_count": 12,
          "metadata": {},
          "output_type": "execute_result"
        }
      ],
      "source": [
        "list(enumerate('abcde'))"
      ]
    },
    {
      "cell_type": "markdown",
      "metadata": {
        "id": "ElwbXLpiM6tZ"
      },
      "source": [
        "It was a list of tuples, meaning we could use tuple unpacking during our for loop. This data structure is actually very common in Python , especially when working with outside libraries. You can use the **zip()** function to quickly create a list of tuples by \"zipping\" up together two lists."
      ]
    },
    {
      "cell_type": "code",
      "execution_count": null,
      "metadata": {
        "collapsed": true,
        "id": "CHdDe7wNM6tZ"
      },
      "outputs": [],
      "source": [
        "mylist1 = [1,2,3,4,5]\n",
        "mylist2 = ['a','b','c','d','e']"
      ]
    },
    {
      "cell_type": "code",
      "execution_count": null,
      "metadata": {
        "id": "FOW9j-H_M6tZ",
        "outputId": "a21cb376-4b82-484d-e9f5-277830566ea5"
      },
      "outputs": [
        {
          "data": {
            "text/plain": [
              "<zip at 0x1d205086f08>"
            ]
          },
          "execution_count": 15,
          "metadata": {},
          "output_type": "execute_result"
        }
      ],
      "source": [
        "# This one is also a generator! We will explain this later, but for now let's transform it to a list\n",
        "zip(mylist1,mylist2)"
      ]
    },
    {
      "cell_type": "code",
      "execution_count": null,
      "metadata": {
        "id": "JvSfntDWM6tZ",
        "outputId": "866ff214-e84b-4355-d9a2-18b6352491de"
      },
      "outputs": [
        {
          "data": {
            "text/plain": [
              "[(1, 'a'), (2, 'b'), (3, 'c'), (4, 'd'), (5, 'e')]"
            ]
          },
          "execution_count": 17,
          "metadata": {},
          "output_type": "execute_result"
        }
      ],
      "source": [
        "list(zip(mylist1,mylist2))"
      ]
    },
    {
      "cell_type": "markdown",
      "metadata": {
        "id": "UYF7wxVhM6ta"
      },
      "source": [
        "To use the generator, we could just use a for loop"
      ]
    },
    {
      "cell_type": "code",
      "execution_count": null,
      "metadata": {
        "id": "j5P5CUaQM6ta",
        "outputId": "a936d277-294a-40c0-d68e-ef1b24565845"
      },
      "outputs": [
        {
          "name": "stdout",
          "output_type": "stream",
          "text": [
            "For this tuple, first item was 1 and second item was a\n",
            "For this tuple, first item was 2 and second item was b\n",
            "For this tuple, first item was 3 and second item was c\n",
            "For this tuple, first item was 4 and second item was d\n",
            "For this tuple, first item was 5 and second item was e\n"
          ]
        }
      ],
      "source": [
        "for item1, item2 in zip(mylist1,mylist2):\n",
        "    print('For this tuple, first item was {} and second item was {}'.format(item1,item2))"
      ]
    },
    {
      "cell_type": "markdown",
      "metadata": {
        "id": "5TpaCB4SM6ta"
      },
      "source": [
        "## in operator\n",
        "\n",
        "We've already seen the **in** keyword during the for loop, but we can also use it to quickly check if an object is in a list"
      ]
    },
    {
      "cell_type": "code",
      "execution_count": null,
      "metadata": {
        "id": "aWGI0AL4M6ta",
        "outputId": "283879f1-09d3-41d6-dac3-10da16a7ac2e"
      },
      "outputs": [
        {
          "data": {
            "text/plain": [
              "True"
            ]
          },
          "execution_count": 21,
          "metadata": {},
          "output_type": "execute_result"
        }
      ],
      "source": [
        "'x' in ['x','y','z']"
      ]
    },
    {
      "cell_type": "code",
      "execution_count": null,
      "metadata": {
        "id": "npIjGcidM6tb",
        "outputId": "3739f4bb-11c1-43eb-a121-6842da7c5957"
      },
      "outputs": [
        {
          "data": {
            "text/plain": [
              "False"
            ]
          },
          "execution_count": 22,
          "metadata": {},
          "output_type": "execute_result"
        }
      ],
      "source": [
        "'x' in [1,2,3]"
      ]
    },
    {
      "cell_type": "markdown",
      "metadata": {
        "id": "_jU7gnj2M6tb"
      },
      "source": [
        "## not in\n",
        "\n",
        "We can combine **in** with a **not** operator, to check if some object or variable is not present in a list."
      ]
    },
    {
      "cell_type": "code",
      "execution_count": null,
      "metadata": {
        "id": "URoBC3EcM6tb",
        "outputId": "6c44b5ad-ff70-44fb-d9a7-1ee7deab6519"
      },
      "outputs": [
        {
          "data": {
            "text/plain": [
              "False"
            ]
          },
          "execution_count": 1,
          "metadata": {},
          "output_type": "execute_result"
        }
      ],
      "source": [
        "'x' not in ['x','y','z']"
      ]
    },
    {
      "cell_type": "code",
      "execution_count": null,
      "metadata": {
        "id": "TCL35USbM6tb",
        "outputId": "9082dbc2-f65b-4fb1-cd4b-ba7ace128f4a"
      },
      "outputs": [
        {
          "data": {
            "text/plain": [
              "True"
            ]
          },
          "execution_count": 2,
          "metadata": {},
          "output_type": "execute_result"
        }
      ],
      "source": [
        "'x' not in [1,2,3]"
      ]
    },
    {
      "cell_type": "markdown",
      "metadata": {
        "id": "Yrd9kAksM6tc"
      },
      "source": [
        "## min and max\n",
        "\n",
        "Quickly check the minimum or maximum of a list with these functions."
      ]
    },
    {
      "cell_type": "code",
      "execution_count": null,
      "metadata": {
        "collapsed": true,
        "id": "clT8E2ZOM6tc"
      },
      "outputs": [],
      "source": [
        "mylist = [10,20,30,40,100]"
      ]
    },
    {
      "cell_type": "code",
      "execution_count": null,
      "metadata": {
        "id": "G-WFhof2M6tc",
        "outputId": "4e511a08-22cb-4a04-c9c4-8daa4638555c"
      },
      "outputs": [
        {
          "data": {
            "text/plain": [
              "10"
            ]
          },
          "execution_count": 27,
          "metadata": {},
          "output_type": "execute_result"
        }
      ],
      "source": [
        "min(mylist)"
      ]
    },
    {
      "cell_type": "code",
      "execution_count": null,
      "metadata": {
        "id": "swVDZyc8M6tc",
        "outputId": "e3413610-0f97-4bf9-a37d-203e2087039d"
      },
      "outputs": [
        {
          "data": {
            "text/plain": [
              "100"
            ]
          },
          "execution_count": 44,
          "metadata": {},
          "output_type": "execute_result"
        }
      ],
      "source": [
        "max(mylist)"
      ]
    },
    {
      "cell_type": "markdown",
      "metadata": {
        "id": "s110XMBCM6tc"
      },
      "source": [
        "## random\n",
        "\n",
        "Python comes with a built in random library. There are a lot of functions included in this random library, so we will only show you two useful functions for now."
      ]
    },
    {
      "cell_type": "code",
      "execution_count": null,
      "metadata": {
        "collapsed": true,
        "id": "5GrbEAEfM6td"
      },
      "outputs": [],
      "source": [
        "from random import shuffle"
      ]
    },
    {
      "cell_type": "code",
      "execution_count": null,
      "metadata": {
        "collapsed": true,
        "id": "eFQygjHOM6td"
      },
      "outputs": [],
      "source": [
        "# This shuffles the list \"in-place\" meaning it won't return\n",
        "# anything, instead it will effect the list passed\n",
        "shuffle(mylist)"
      ]
    },
    {
      "cell_type": "code",
      "execution_count": null,
      "metadata": {
        "id": "0QYbJAyGM6te",
        "outputId": "fdbf345c-dc3c-45f8-fd23-ecc0faaec478"
      },
      "outputs": [
        {
          "data": {
            "text/plain": [
              "[40, 10, 100, 30, 20]"
            ]
          },
          "execution_count": 36,
          "metadata": {},
          "output_type": "execute_result"
        }
      ],
      "source": [
        "mylist"
      ]
    },
    {
      "cell_type": "code",
      "execution_count": null,
      "metadata": {
        "collapsed": true,
        "id": "ZKdE-PiBM6te"
      },
      "outputs": [],
      "source": [
        "from random import randint"
      ]
    },
    {
      "cell_type": "code",
      "execution_count": null,
      "metadata": {
        "id": "hXcoKYCbM6te",
        "outputId": "bdd5583e-9079-4239-c5aa-c28a1d9e2a51"
      },
      "outputs": [
        {
          "data": {
            "text/plain": [
              "25"
            ]
          },
          "execution_count": 41,
          "metadata": {},
          "output_type": "execute_result"
        }
      ],
      "source": [
        "# Return random integer in range [a, b], including both end points.\n",
        "randint(0,100)"
      ]
    },
    {
      "cell_type": "code",
      "execution_count": null,
      "metadata": {
        "id": "Z6MYorHwM6te",
        "outputId": "48d74408-4673-425c-f5e0-ad74d7b8f051"
      },
      "outputs": [
        {
          "data": {
            "text/plain": [
              "91"
            ]
          },
          "execution_count": 42,
          "metadata": {},
          "output_type": "execute_result"
        }
      ],
      "source": [
        "# Return random integer in range [a, b], including both end points.\n",
        "randint(0,100)"
      ]
    },
    {
      "cell_type": "markdown",
      "metadata": {
        "id": "cMzehlNvM6te"
      },
      "source": [
        "## input"
      ]
    },
    {
      "cell_type": "code",
      "execution_count": null,
      "metadata": {
        "id": "_5m7CurzM6te",
        "outputId": "14d322a9-a752-4262-b206-639a6838e58d"
      },
      "outputs": [
        {
          "name": "stdout",
          "output_type": "stream",
          "text": [
            "Enter Something into this box: great job!\n"
          ]
        },
        {
          "data": {
            "text/plain": [
              "'great job!'"
            ]
          },
          "execution_count": 43,
          "metadata": {},
          "output_type": "execute_result"
        }
      ],
      "source": [
        "input('Enter Something into this box: ')"
      ]
    }
  ],
  "metadata": {
    "kernelspec": {
      "display_name": "Python 3",
      "language": "python",
      "name": "python3"
    },
    "language_info": {
      "codemirror_mode": {
        "name": "ipython",
        "version": 3
      },
      "file_extension": ".py",
      "mimetype": "text/x-python",
      "name": "python",
      "nbconvert_exporter": "python",
      "pygments_lexer": "ipython3",
      "version": "3.6.6"
    },
    "colab": {
      "provenance": []
    }
  },
  "nbformat": 4,
  "nbformat_minor": 0
}